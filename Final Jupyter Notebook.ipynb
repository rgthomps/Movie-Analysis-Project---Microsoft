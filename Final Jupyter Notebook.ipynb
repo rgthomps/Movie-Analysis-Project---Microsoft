{
 "cells": [
  {
   "cell_type": "code",
   "execution_count": null,
   "metadata": {},
   "outputs": [],
   "source": [
    "import pandas as pd\n",
    "import matplotlib.pyplot as plt\n",
    "import numpy as np "
   ]
  },
  {
   "cell_type": "code",
   "execution_count": null,
   "metadata": {
    "scrolled": false
   },
   "outputs": [],
   "source": [
    "!ls zippedData/"
   ]
  },
  {
   "cell_type": "code",
   "execution_count": null,
   "metadata": {},
   "outputs": [],
   "source": [
    "# What is the correlation between production budget \n",
    "# and world wide gross?"
   ]
  },
  {
   "cell_type": "code",
   "execution_count": null,
   "metadata": {},
   "outputs": [],
   "source": [
    "# Below is the csv file called TN_data that we used to look into the data behind budgets for movies and the correlation to gross profit that those budgets had.\n",
    "TN_data = pd.read_csv('zippedData/tn.movie_budgets.csv.gz')"
   ]
  },
  {
   "cell_type": "code",
   "execution_count": null,
   "metadata": {},
   "outputs": [],
   "source": [
    "TN_data"
   ]
  },
  {
   "cell_type": "code",
   "execution_count": null,
   "metadata": {},
   "outputs": [],
   "source": [
    "TN_data.info()"
   ]
  },
  {
   "cell_type": "code",
   "execution_count": null,
   "metadata": {},
   "outputs": [],
   "source": [
    "TN_data.describe()"
   ]
  },
  {
   "cell_type": "code",
   "execution_count": null,
   "metadata": {},
   "outputs": [],
   "source": [
    "# Removed dollar sign to change string into an integer.\n",
    "TN_data['production_budget'] = TN_data['production_budget'].str.replace('$' , '')"
   ]
  },
  {
   "cell_type": "code",
   "execution_count": null,
   "metadata": {},
   "outputs": [],
   "source": [
    "# Removed comma to change string into an integer.\n",
    "TN_data['production_budget'] = TN_data['production_budget'].str.replace(',' , '')"
   ]
  },
  {
   "cell_type": "code",
   "execution_count": null,
   "metadata": {},
   "outputs": [],
   "source": [
    "# Set type as an integer instead of a string.\n",
    "TN_data['production_budget'] = TN_data['production_budget'].astype(int)"
   ]
  },
  {
   "cell_type": "code",
   "execution_count": null,
   "metadata": {},
   "outputs": [],
   "source": [
    "# Removed dollar sign to change string into an integer. \n",
    "TN_data['worldwide_gross'] = TN_data['worldwide_gross'].str.replace('$' , '')"
   ]
  },
  {
   "cell_type": "code",
   "execution_count": null,
   "metadata": {},
   "outputs": [],
   "source": [
    "# Set type as an integer instead of a string. \n",
    "TN_data['worldwide_gross'] = TN_data['worldwide_gross'].str.replace(',' , '').astype('int64')"
   ]
  },
  {
   "cell_type": "code",
   "execution_count": null,
   "metadata": {},
   "outputs": [],
   "source": [
    "TN_data.info()"
   ]
  },
  {
   "cell_type": "code",
   "execution_count": null,
   "metadata": {},
   "outputs": [],
   "source": [
    "x = list(TN_data['worldwide_gross'].values)"
   ]
  },
  {
   "cell_type": "code",
   "execution_count": null,
   "metadata": {},
   "outputs": [],
   "source": [
    "y = list(TN_data['production_budget'].values)"
   ]
  },
  {
   "cell_type": "code",
   "execution_count": null,
   "metadata": {},
   "outputs": [],
   "source": [
    "plt.show()"
   ]
  },
  {
   "cell_type": "code",
   "execution_count": null,
   "metadata": {},
   "outputs": [],
   "source": [
    "# Set x and y axes with the above data as values thata re displayed below.\n",
    "fig, ax = plt.subplots(figsize=(20,10))\n",
    "ax.scatter(TN_data['worldwide_gross'],TN_data['production_budget'], color='blue', \n",
    "                        alpha=.6, edgecolor='black', linewidth=.5, s=100)\n",
    "\n",
    "ax.set_title('Production Budget/Worldwide Gross Correlation', fontsize = 35)\n",
    "ax.set_ylabel('Worldwide Gross (Billions $)', fontsize = 30)\n",
    "ax.set_xlabel('Production Budget (Billions $)', fontsize = 30)\n",
    "plt.xticks(fontsize=20)\n",
    "plt.yticks(fontsize=20)\n",
    "\n",
    ";\n",
    "\n",
    "\n",
    "fig.patch.set_facecolor('white')\n",
    "fig.patch.set_alpha(1)\n",
    "\n",
    "fig.savefig('production_budget_worldwide_gross_correlation.png', facecolor=fig.get_facecolor(), edgecolor='none')"
   ]
  },
  {
   "cell_type": "code",
   "execution_count": null,
   "metadata": {},
   "outputs": [],
   "source": []
  },
  {
   "cell_type": "code",
   "execution_count": null,
   "metadata": {},
   "outputs": [],
   "source": [
    "# Question #3: What is the most popular genre? (genre vs poularity)"
   ]
  },
  {
   "cell_type": "code",
   "execution_count": null,
   "metadata": {},
   "outputs": [],
   "source": [
    "# Genre and Popularity measurements were found in the TMDB Database\n",
    "TMDB_data = pd.read_csv(\"zippedData/tmdb.movies.csv.gz\")"
   ]
  },
  {
   "cell_type": "code",
   "execution_count": null,
   "metadata": {},
   "outputs": [],
   "source": [
    "# We used this data to see the popularity and release date as well as how exactly the vote count and average was broken down.\n",
    "TMDB_data"
   ]
  },
  {
   "cell_type": "code",
   "execution_count": null,
   "metadata": {},
   "outputs": [],
   "source": [
    "TMDB_data.info()"
   ]
  },
  {
   "cell_type": "code",
   "execution_count": null,
   "metadata": {},
   "outputs": [],
   "source": [
    "TMDB_data.describe()"
   ]
  },
  {
   "cell_type": "code",
   "execution_count": null,
   "metadata": {},
   "outputs": [],
   "source": [
    "# In order to utilize the genre information, it needed split apart and exploded.\n",
    "TMDB_data[\"genre_ids\"] = TMDB_data[\"genre_ids\"].str.replace(\"[\",\"\").str.replace(\"]\",\"\").str.replace(\",\",\"\").str.split(\" \")"
   ]
  },
  {
   "cell_type": "code",
   "execution_count": null,
   "metadata": {},
   "outputs": [],
   "source": [
    "TMDB_genre = TMDB_data.explode(column=\"genre_ids\")"
   ]
  },
  {
   "cell_type": "code",
   "execution_count": null,
   "metadata": {},
   "outputs": [],
   "source": [
    "# Then we found the avg popularity for each genre and returning a list of the top 10 most popular genres \n",
    "# over the 8-year span. \n",
    "genres = TMDB_genre.groupby('genre_ids')['popularity'].mean().sort_values(ascending=False).head(10)"
   ]
  },
  {
   "cell_type": "code",
   "execution_count": null,
   "metadata": {},
   "outputs": [],
   "source": [
    "#  Using the code on the TMDB website, we converted the top 10 genres from numeric code to name associated with the number. \n",
    "lst_of_genres = ['Adventure', 'Action', 'Fantasy', 'Crime', 'War', 'Science Fiction', 'Thriller', 'Mystery', 'Family', 'Animation'] "
   ]
  },
  {
   "cell_type": "code",
   "execution_count": null,
   "metadata": {},
   "outputs": [],
   "source": [
    "genres.index = lst_of_genres\n",
    "genres.index"
   ]
  },
  {
   "cell_type": "code",
   "execution_count": null,
   "metadata": {},
   "outputs": [],
   "source": [
    "# We used a Histogram to visualize the popularity of the top ten genres.\n",
    "x = genres.index\n",
    "y = genres.values\n",
    "plt.figure(figsize=(10,6))\n",
    "plt.xticks(fontsize=15)\n",
    "plt.yticks(fontsize=15)\n",
    "plt.title(\"Popularity by Genre (over 8 years)\", fontsize=25)\n",
    "plt.ylabel(\"AVG Popularity Rating\", fontsize=20)\n",
    "ax= genres.plot.bar(x=x, y=y, rot=70)\n",
    "\n",
    "fig.patch.set_facecolor('white')\n",
    "fig.patch.set_alpha(1)\n",
    "\n",
    "plt.savefig('popularity_by_genre.png', facecolor=fig.get_facecolor(), edgecolor='none', bbox_inches=\"tight\")"
   ]
  },
  {
   "cell_type": "code",
   "execution_count": null,
   "metadata": {},
   "outputs": [],
   "source": [
    "# What is the correlation between popularity and release date? "
   ]
  },
  {
   "cell_type": "code",
   "execution_count": null,
   "metadata": {},
   "outputs": [],
   "source": [
    "# Set the data we used for the popularity and month released to determine which month was the most popular month for movies on average.\n",
    "TMDB_data = pd.read_csv(\"zippedData/tmdb.movies.csv.gz\", parse_dates = ['release_date'])"
   ]
  },
  {
   "cell_type": "code",
   "execution_count": null,
   "metadata": {},
   "outputs": [],
   "source": [
    "# We used this data to see the popularity and release date as well as how exactly the vote count and average was broken down.\n",
    "TMDB_data"
   ]
  },
  {
   "cell_type": "code",
   "execution_count": null,
   "metadata": {},
   "outputs": [],
   "source": [
    "type(TMDB_data['release_date'][0])"
   ]
  },
  {
   "cell_type": "code",
   "execution_count": null,
   "metadata": {},
   "outputs": [],
   "source": [
    "# Sorted values in order from highest to lowest in regards to vote count\n",
    "TMDB_data.sort_values('vote_count', ascending = False)"
   ]
  },
  {
   "cell_type": "code",
   "execution_count": null,
   "metadata": {
    "scrolled": true
   },
   "outputs": [],
   "source": [
    "TMDB_data.info()"
   ]
  },
  {
   "cell_type": "code",
   "execution_count": null,
   "metadata": {},
   "outputs": [],
   "source": [
    "# Targeted the month column and more specifically the month column so that we could determine what month would be the most and least popular month to release a movie.\n",
    "TMDB_data['month'] = TMDB_data['release_date'].dt.month"
   ]
  },
  {
   "cell_type": "code",
   "execution_count": null,
   "metadata": {},
   "outputs": [],
   "source": [
    "# Set the average popularity per month in order from highest to lowest\n",
    "popularity_by_month = TMDB_data.groupby('month')['popularity'].mean().sort_values(ascending=False)"
   ]
  },
  {
   "cell_type": "code",
   "execution_count": null,
   "metadata": {},
   "outputs": [],
   "source": [
    "popularity_by_month = popularity_by_month.reset_index()"
   ]
  },
  {
   "cell_type": "code",
   "execution_count": null,
   "metadata": {},
   "outputs": [],
   "source": [
    "popularity_by_month"
   ]
  },
  {
   "cell_type": "code",
   "execution_count": null,
   "metadata": {},
   "outputs": [],
   "source": [
    "popularity_by_month = popularity_by_month.sort_values(\"month\")"
   ]
  },
  {
   "cell_type": "code",
   "execution_count": null,
   "metadata": {},
   "outputs": [],
   "source": [
    "# Set the x label months by the words of the months instead of the numbers. \n",
    "month_labels = ['Jan','Feb', 'Mar', 'Apr', 'May', 'June', 'July', 'Aug', 'Sept', 'Oct', 'Nov', 'Dec']"
   ]
  },
  {
   "cell_type": "code",
   "execution_count": null,
   "metadata": {
    "scrolled": true
   },
   "outputs": [],
   "source": [
    "# Set the bar plot\n",
    "plot_one_fig, plot_one_ax = plt.subplots(figsize=(10,6))\n",
    "# Used month and popularity as the targeted columns and the color as green.\n",
    "plot_one_ax.bar(popularity_by_month['month'], popularity_by_month['popularity'], color = 'green')\n",
    "# Set fontsizes and labels for the axes and title.\n",
    "plot_one_ax.set_title(('Best Month to Release a Movie'), fontsize = 28)\n",
    "plot_one_ax.set_ylabel(('Avg. Popularity'), fontsize = 25)\n",
    "plot_one_ax.set_xlabel(('Month Released'), fontsize = 25)\n",
    "plt.xticks(ticks = popularity_by_month['month'], labels = month_labels, fontsize=17)\n",
    "plt.yticks(fontsize=17)\n",
    "\n",
    "\n",
    "plot_one_fig.patch.set_facecolor('white')\n",
    "plot_one_fig.patch.set_alpha(1)\n",
    "\n",
    "plot_one_fig.savefig('popularity_by_month.png', facecolor=plot_one_fig.get_facecolor(), edgecolor='none')\n",
    "\n"
   ]
  }
 ],
 "metadata": {
  "kernelspec": {
   "display_name": "Python (learn-env)",
   "language": "python",
   "name": "learn-env"
  },
  "language_info": {
   "codemirror_mode": {
    "name": "ipython",
    "version": 3
   },
   "file_extension": ".py",
   "mimetype": "text/x-python",
   "name": "python",
   "nbconvert_exporter": "python",
   "pygments_lexer": "ipython3",
   "version": "3.8.5"
  }
 },
 "nbformat": 4,
 "nbformat_minor": 4
}
